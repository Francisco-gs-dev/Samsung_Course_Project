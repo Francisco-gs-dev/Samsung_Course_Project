{
 "cells": [
  {
   "cell_type": "markdown",
   "metadata": {},
   "source": [
    "# Concatenamos los distintos set de datos (desde el año 2014 hasta el año 2024)\n",
    "\n",
    "- Accedemos a la carpeta donde se encuentran los archivos csv (carpeta: datos), iteramos sobre ella y en la variable **archivos_csv** unimos todos los csv."
   ]
  },
  {
   "cell_type": "code",
   "execution_count": null,
   "metadata": {},
   "outputs": [],
   "source": [
    "import os\n",
    "import pandas as pd\n",
    "\n",
    "# Directorio donde se encuentran los archivos CSV\n",
    "directorio = 'datos'\n",
    "\n",
    "# Lista para almacenar los dataframes\n",
    "archivos_csv = []\n",
    "\n",
    "# Recorremos todos los archivos en el directorio\n",
    "for archivo in os.listdir(directorio):\n",
    "    if archivo.endswith('.csv'):\n",
    "        # Creamos la ruta completa al archivo\n",
    "        print(archivo)\n",
    "        ruta_archivo = os.path.join(directorio, archivo)\n",
    "        \n",
    "        # Leemos el archivo CSV y lo añadimos a la lista\n",
    "        df = pd.read_csv(ruta_archivo, encoding='utf-8', sep=',')\n",
    "        archivos_csv.append(df)\n",
    "\n",
    "# Concatenamos todos los dataframes\n",
    "df_concatenado = pd.concat(archivos_csv, ignore_index=True)\n",
    "\n",
    "print(df_concatenado.head())\n",
    "\n",
    "# Guardamos el dataframe concatenado\n",
    "df_concatenado.to_csv('archivo_concatenado.csv', index=False)"
   ]
  },
  {
   "cell_type": "code",
   "execution_count": null,
   "metadata": {},
   "outputs": [],
   "source": [
    "df_concatenado.shape"
   ]
  },
  {
   "cell_type": "code",
   "execution_count": null,
   "metadata": {},
   "outputs": [],
   "source": [
    "df_concatenado.info()"
   ]
  }
 ],
 "metadata": {
  "kernelspec": {
   "display_name": "Python 3 (ipykernel)",
   "language": "python",
   "name": "python3"
  },
  "language_info": {
   "codemirror_mode": {
    "name": "ipython",
    "version": 3
   },
   "file_extension": ".py",
   "mimetype": "text/x-python",
   "name": "python",
   "nbconvert_exporter": "python",
   "pygments_lexer": "ipython3",
   "version": "3.12.5"
  }
 },
 "nbformat": 4,
 "nbformat_minor": 4
}
